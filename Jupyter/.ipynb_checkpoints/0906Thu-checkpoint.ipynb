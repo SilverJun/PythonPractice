{
 "cells": [
  {
   "cell_type": "markdown",
   "metadata": {},
   "source": [
    "# 9/6 Thu\n",
    "-----"
   ]
  },
  {
   "cell_type": "code",
   "execution_count": 1,
   "metadata": {},
   "outputs": [
    {
     "name": "stdout",
     "output_type": "stream",
     "text": [
      "=========================\n",
      "다시 처음부터 시작합니다\n",
      "=========================\n"
     ]
    }
   ],
   "source": [
    "count = 10\n",
    "if count >= 10:\n",
    "    count = 0\n",
    "    print(\"=\"*25)\n",
    "    print(\"다시 처음부터 시작합니다\")\n",
    "    print(\"=\"*25)\n",
    "else:\n",
    "    count = count + 1\n",
    "    print(\"다음 단계가 실행됩니다\")"
   ]
  },
  {
   "cell_type": "code",
   "execution_count": 5,
   "metadata": {},
   "outputs": [
    {
     "name": "stdout",
     "output_type": "stream",
     "text": [
      "your grade is A\n"
     ]
    }
   ],
   "source": [
    "score = int(input(\"성적을 입력하세요 : \"))\n",
    "\n",
    "if score < 100 and score >= 90:\n",
    "    print(\"your grade is A\")\n",
    "elif score >= 80:\n",
    "    print(\"your grade is B\")\n",
    "elif score >= 70:\n",
    "    print(\"your grade is C\")\n",
    "elif score >= 60:\n",
    "    print(\"your grade is D\")\n",
    "else:\n",
    "    print(\"your grade is F\")\n",
    "    "
   ]
  },
  {
   "cell_type": "code",
   "execution_count": 9,
   "metadata": {},
   "outputs": [
    {
     "name": "stdout",
     "output_type": "stream",
     "text": [
      "과일이 목록에 있습니다.\n"
     ]
    }
   ],
   "source": [
    "fruits = ['apple', 'banana', 'grape', 'orange', 'strawberry']\n",
    "\n",
    "user_fruit = input(\"좋아하는 과일을 입력해주세요 : \")\n",
    "\n",
    "if user_fruit in fruits:\n",
    "    print(\"과일이 목록에 있습니다.\")\n",
    "elif user_fruit == \"없음\":\n",
    "    print(\"과일을 먹어보세요. 분명히 좋아하게 될 겁니다.\")\n",
    "else:\n",
    "    print(\"과일이 목록에 없습니다.\")"
   ]
  },
  {
   "cell_type": "code",
   "execution_count": null,
   "metadata": {},
   "outputs": [],
   "source": []
  }
 ],
 "metadata": {
  "kernelspec": {
   "display_name": "Python 3",
   "language": "python",
   "name": "python3"
  },
  "language_info": {
   "codemirror_mode": {
    "name": "ipython",
    "version": 3
   },
   "file_extension": ".py",
   "mimetype": "text/x-python",
   "name": "python",
   "nbconvert_exporter": "python",
   "pygments_lexer": "ipython3",
   "version": "3.6.5"
  }
 },
 "nbformat": 4,
 "nbformat_minor": 2
}
