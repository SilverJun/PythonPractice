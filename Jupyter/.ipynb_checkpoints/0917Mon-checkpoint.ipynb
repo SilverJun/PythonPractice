{
 "cells": [
  {
   "cell_type": "markdown",
   "metadata": {},
   "source": [
    "## 9/17 Mon\n",
    "-------"
   ]
  },
  {
   "cell_type": "code",
   "execution_count": 1,
   "metadata": {},
   "outputs": [
    {
     "name": "stdout",
     "output_type": "stream",
     "text": [
      "비밀번호 입력 오류가 3번 발생하여, 처리할 수 없습니다.\n"
     ]
    }
   ],
   "source": [
    "pwd = \"????\"\n",
    "cnt = 1\n",
    "\n",
    "while pwd != \"1234\" and cnt <= 3:\n",
    "    pwd = input(\"비밀번호를 입력하세요 : \")\n",
    "    cnt = cnt + 1\n",
    "    \n",
    "    if pwd == \"1234\":\n",
    "        print(\"비밀번호가 정확합니다!\")\n",
    "    elif cnt > 3:\n",
    "        print(\"비밀번호 입력 오류가 3번 발생하여, 처리할 수 없습니다.\")\n",
    "        \n"
   ]
  },
  {
   "cell_type": "code",
   "execution_count": 4,
   "metadata": {},
   "outputs": [
    {
     "name": "stdout",
     "output_type": "stream",
     "text": [
      "apple글자수 : 5\n",
      "banana글자수 : 6\n",
      "blueberry글자수 : 9\n",
      "tomato글자수 : 6\n"
     ]
    }
   ],
   "source": [
    "fruit = [\"apple\", \"banana\", \"blueberry\", \"tomato\"]\n",
    "\n",
    "for fr in fruit:\n",
    "    count = 0\n",
    "    for f in fr:\n",
    "        print(f, end='')\n",
    "        count = count + 1\n",
    "    print(\"글자수 :\", count)"
   ]
  },
  {
   "cell_type": "code",
   "execution_count": 5,
   "metadata": {},
   "outputs": [
    {
     "name": "stdout",
     "output_type": "stream",
     "text": [
      "*\n",
      "**\n",
      "***\n",
      "****\n",
      "*****\n",
      "******\n",
      "*******\n",
      "********\n",
      "*********\n",
      "**********\n"
     ]
    }
   ],
   "source": [
    "for i in range(1,11):\n",
    "    print(\"*\"*i)"
   ]
  },
  {
   "cell_type": "code",
   "execution_count": 6,
   "metadata": {},
   "outputs": [
    {
     "name": "stdout",
     "output_type": "stream",
     "text": [
      "**********\n",
      "*********\n",
      "********\n",
      "*******\n",
      "******\n",
      "*****\n",
      "****\n",
      "***\n",
      "**\n",
      "*\n"
     ]
    }
   ],
   "source": [
    "for i in range(10, 0, -1):\n",
    "    print(\"*\"*i)"
   ]
  },
  {
   "cell_type": "code",
   "execution_count": 7,
   "metadata": {},
   "outputs": [
    {
     "name": "stdout",
     "output_type": "stream",
     "text": [
      "          *\n",
      "         ***\n",
      "        *****\n",
      "       *******\n",
      "      *********\n",
      "     ***********\n",
      "    *************\n",
      "   ***************\n",
      "  *****************\n",
      " *******************\n"
     ]
    }
   ],
   "source": [
    "for i in range(1, 11):\n",
    "    print(' '*(10-i), '*'*(i*2-1))"
   ]
  },
  {
   "cell_type": "code",
   "execution_count": 14,
   "metadata": {},
   "outputs": [
    {
     "name": "stdout",
     "output_type": "stream",
     "text": [
      "      *\n",
      "     ***\n",
      "    *****\n",
      "   *******\n",
      "  *********\n",
      " ***********\n",
      "  *********\n",
      "   *******\n",
      "    *****\n",
      "     ***\n",
      "      *\n"
     ]
    }
   ],
   "source": [
    "for i in range(1, 6):\n",
    "    print(' '*(6-i), '*'*(i*2-1))\n",
    "for i in range(6, 0, -1):\n",
    "    print(' '*(6-i), '*'*(i*2-1))"
   ]
  },
  {
   "cell_type": "code",
   "execution_count": null,
   "metadata": {},
   "outputs": [],
   "source": []
  }
 ],
 "metadata": {
  "kernelspec": {
   "display_name": "Python 3",
   "language": "python",
   "name": "python3"
  },
  "language_info": {
   "codemirror_mode": {
    "name": "ipython",
    "version": 3
   },
   "file_extension": ".py",
   "mimetype": "text/x-python",
   "name": "python",
   "nbconvert_exporter": "python",
   "pygments_lexer": "ipython3",
   "version": "3.6.5"
  }
 },
 "nbformat": 4,
 "nbformat_minor": 2
}
