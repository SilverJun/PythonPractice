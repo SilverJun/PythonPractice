{
 "cells": [
  {
   "cell_type": "markdown",
   "metadata": {},
   "source": [
    "## 10/08 Mon\n",
    "-------"
   ]
  },
  {
   "cell_type": "code",
   "execution_count": 3,
   "metadata": {},
   "outputs": [
    {
     "name": "stdout",
     "output_type": "stream",
     "text": [
      "['y']\n"
     ]
    }
   ],
   "source": [
    "t1 = ['x', 'y', 'z']\n",
    "t2 = ['d', 'e']\n",
    "x = t1.pop(0) + t1.pop(1)\n",
    "print(t1)"
   ]
  },
  {
   "cell_type": "code",
   "execution_count": 8,
   "metadata": {},
   "outputs": [
    {
     "name": "stdout",
     "output_type": "stream",
     "text": [
      "['x', 'y', 'z', 'd', 'e']\n",
      "['x', 'y', 'z', 'a', 'b', 'c', 'd']\n",
      "['x', 'y', 'z', 'abcd']\n"
     ]
    }
   ],
   "source": [
    "t1 = ['x', 'y', 'z']\n",
    "t2 = ['d', 'e']\n",
    "t1.extend(t2)\n",
    "print(t1)\n",
    "t1 = ['x', 'y', 'z']\n",
    "t1.extend('abcd')\n",
    "print(t1)\n",
    "print(['x', 'y', 'z'] + ['abcd'])"
   ]
  },
  {
   "cell_type": "code",
   "execution_count": 10,
   "metadata": {},
   "outputs": [
    {
     "name": "stdout",
     "output_type": "stream",
     "text": [
      "[2, 4, 6, 8, 10, 12, 14, 16, 18]\n",
      "[3, 6, 9, 12, 15, 18, 21, 24, 27]\n",
      "[4, 8, 12, 16, 20, 24, 28, 32, 36]\n",
      "[5, 10, 15, 20, 25, 30, 35, 40, 45]\n",
      "[6, 12, 18, 24, 30, 36, 42, 48, 54]\n",
      "[7, 14, 21, 28, 35, 42, 49, 56, 63]\n",
      "[8, 16, 24, 32, 40, 48, 56, 64, 72]\n",
      "[9, 18, 27, 36, 45, 54, 63, 72, 81]\n",
      "[10, 20, 30, 40, 50, 60, 70, 80, 90]\n",
      "[11, 22, 33, 44, 55, 66, 77, 88, 99]\n",
      "[12, 24, 36, 48, 60, 72, 84, 96, 108]\n",
      "[13, 26, 39, 52, 65, 78, 91, 104, 117]\n",
      "[14, 28, 42, 56, 70, 84, 98, 112, 126]\n",
      "[15, 30, 45, 60, 75, 90, 105, 120, 135]\n",
      "[16, 32, 48, 64, 80, 96, 112, 128, 144]\n",
      "---------\n",
      "[[2, 4, 6, 8, 10, 12, 14, 16, 18], [3, 6, 9, 12, 15, 18, 21, 24, 27], [4, 8, 12, 16, 20, 24, 28, 32, 36], [5, 10, 15, 20, 25, 30, 35, 40, 45], [6, 12, 18, 24, 30, 36, 42, 48, 54], [7, 14, 21, 28, 35, 42, 49, 56, 63], [8, 16, 24, 32, 40, 48, 56, 64, 72], [9, 18, 27, 36, 45, 54, 63, 72, 81], [10, 20, 30, 40, 50, 60, 70, 80, 90], [11, 22, 33, 44, 55, 66, 77, 88, 99], [12, 24, 36, 48, 60, 72, 84, 96, 108], [13, 26, 39, 52, 65, 78, 91, 104, 117], [14, 28, 42, 56, 70, 84, 98, 112, 126], [15, 30, 45, 60, 75, 90, 105, 120, 135], [16, 32, 48, 64, 80, 96, 112, 128, 144]]\n"
     ]
    }
   ],
   "source": [
    "list = []\n",
    "dan = []\n",
    "for i in range (2,17):\n",
    "    for j in range (1,10):\n",
    "        dan.append(i*j)\n",
    "    list.append(dan)\n",
    "    print(list[i-2])\n",
    "    dan = []\n",
    "print(\"---------\")\n",
    "print(list)"
   ]
  },
  {
   "cell_type": "code",
   "execution_count": 12,
   "metadata": {},
   "outputs": [
    {
     "name": "stdout",
     "output_type": "stream",
     "text": [
      "result of function call = 5.0\n",
      "result of function call = 12.0\n"
     ]
    }
   ],
   "source": [
    "def calculate_avg(n1, n2, n3):\n",
    "    sum = n1+n2+n3\n",
    "    return sum/3\n",
    "\n",
    "avg = calculate_avg(1,5,9)\n",
    "print('result of function call =', avg)\n",
    "\n",
    "avg = calculate_avg(11,9,16)\n",
    "print('result of function call =', avg)"
   ]
  },
  {
   "cell_type": "code",
   "execution_count": 16,
   "metadata": {},
   "outputs": [
    {
     "name": "stdout",
     "output_type": "stream",
     "text": [
      "True\n",
      "False\n",
      "True\n",
      "False\n",
      "False\n",
      "False\n"
     ]
    }
   ],
   "source": [
    "def fun(n1, n2):\n",
    "    return n1%n2==0\n",
    "\n",
    "print(fun(10, 2))\n",
    "print(fun(9, 2))\n",
    "print(fun(2, 2))\n",
    "print(fun(1, 2))\n",
    "print(fun(2, 10))\n",
    "print(fun(2, 9))"
   ]
  },
  {
   "cell_type": "code",
   "execution_count": 19,
   "metadata": {},
   "outputs": [
    {
     "name": "stdout",
     "output_type": "stream",
     "text": [
      "True\n",
      "False\n",
      "False\n",
      "False\n",
      "False\n",
      "False\n"
     ]
    }
   ],
   "source": [
    "def isPrime(n):\n",
    "    for i in range(2, n-1):\n",
    "        if n%i==0:\n",
    "            return False\n",
    "    return True\n",
    "\n",
    "# Test case\n",
    "print(isPrime(2))\n",
    "print(isPrime(3))\n",
    "print(isPrime(4))\n",
    "print(isPrime(5))\n",
    "print(isPrime(10))\n",
    "print(isPrime(11))\n",
    "        "
   ]
  },
  {
   "cell_type": "code",
   "execution_count": null,
   "metadata": {},
   "outputs": [],
   "source": []
  }
 ],
 "metadata": {
  "kernelspec": {
   "display_name": "Python 3",
   "language": "python",
   "name": "python3"
  },
  "language_info": {
   "codemirror_mode": {
    "name": "ipython",
    "version": 3
   },
   "file_extension": ".py",
   "mimetype": "text/x-python",
   "name": "python",
   "nbconvert_exporter": "python",
   "pygments_lexer": "ipython3",
   "version": "3.6.5"
  }
 },
 "nbformat": 4,
 "nbformat_minor": 2
}
