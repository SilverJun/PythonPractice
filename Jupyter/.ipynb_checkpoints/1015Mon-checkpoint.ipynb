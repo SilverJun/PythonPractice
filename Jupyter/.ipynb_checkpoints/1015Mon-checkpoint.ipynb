{
 "cells": [
  {
   "cell_type": "markdown",
   "metadata": {},
   "source": [
    "## 10/15 Mon\n",
    "-------"
   ]
  },
  {
   "cell_type": "code",
   "execution_count": 37,
   "metadata": {},
   "outputs": [
    {
     "name": "stdout",
     "output_type": "stream",
     "text": [
      "select from numList = 9.5\n",
      "select from numList = 5\n",
      "select from numList = 15\n",
      "select from numList = 2.2\n",
      "select from numList = 1.35\n",
      "**************************************************\n",
      "select from fruitList = lemon\n",
      "select from fruitList = blackberry\n",
      "select from fruitList = bluberry\n"
     ]
    }
   ],
   "source": [
    "import random\n",
    "\n",
    "random.seed()\n",
    "\n",
    "numList = [1,3,5,2.2,1.35,5,9,9.5,11,15,5.7]\n",
    "fruitList = [\"apple\", \"banana\", \"citrus\", \"bluberry\", \"blackberry\", \"lemon\"]\n",
    "\n",
    "for i in range(5):\n",
    "    print(\"select from numList =\", random.choice(numList))\n",
    "\n",
    "print('*'*50)\n",
    "\n",
    "for i in range(3):\n",
    "    print(\"select from fruitList =\", random.choice(fruitList))"
   ]
  },
  {
   "cell_type": "code",
   "execution_count": null,
   "metadata": {},
   "outputs": [],
   "source": [
    "import turtle\n",
    "\n",
    "wn = turtle.Screen() \n",
    "wn.bgcolor(\"lightblue\")\n",
    "wn.title(\"Draw Triangle\")\n",
    "\n",
    "t = turtle.Turtle()       \n",
    "t.color(\"hotpink\")\n",
    "t.pensize(3)\n",
    "\n",
    "t.penup()\n",
    "t.goto(0, 250)\n",
    "t.pendown()\n",
    "\n",
    "for i in range(3):\n",
    "    t.forward(80)\n",
    "    t.left(120)\n",
    "\n",
    "t.penup()\n",
    "t.right(180) \n",
    "t.forward(80)\n",
    "\n",
    "turtle.done()"
   ]
  },
  {
   "cell_type": "code",
   "execution_count": null,
   "metadata": {},
   "outputs": [],
   "source": []
  },
  {
   "cell_type": "code",
   "execution_count": null,
   "metadata": {},
   "outputs": [],
   "source": []
  },
  {
   "cell_type": "code",
   "execution_count": null,
   "metadata": {},
   "outputs": [],
   "source": []
  }
 ],
 "metadata": {
  "kernelspec": {
   "display_name": "Python 3",
   "language": "python",
   "name": "python3"
  },
  "language_info": {
   "codemirror_mode": {
    "name": "ipython",
    "version": 3
   },
   "file_extension": ".py",
   "mimetype": "text/x-python",
   "name": "python",
   "nbconvert_exporter": "python",
   "pygments_lexer": "ipython3",
   "version": "3.6.5"
  }
 },
 "nbformat": 4,
 "nbformat_minor": 2
}
