{
 "cells": [
  {
   "cell_type": "markdown",
   "metadata": {},
   "source": [
    "## 12/03 Mon\n",
    "-----\n"
   ]
  },
  {
   "cell_type": "code",
   "execution_count": 1,
   "metadata": {},
   "outputs": [
    {
     "name": "stdout",
     "output_type": "stream",
     "text": [
      "single click, Button-1\n",
      "double click, so let's stop\n",
      "single click, Button-1\n",
      "double click, so let's stop\n",
      "double click, so let's stop\n",
      "double click, so let's stop\n",
      "single click, Button-1\n",
      "single click, Button-1\n",
      "double click, so let's stop\n",
      "single click, Button-1\n",
      "double click, so let's stop\n",
      "double click, so let's stop\n",
      "double click, so let's stop\n",
      "double click, so let's stop\n",
      "double click, so let's stop\n",
      "single click, Button-1\n",
      "double click, so let's stop\n"
     ]
    }
   ],
   "source": [
    "from tkinter import *\n",
    "import sys\n",
    "\n",
    "def hello(event):\n",
    "    print(\"single click, Button-1\")\n",
    "    \n",
    "def quit(event):\n",
    "    print(\"double click, so let's stop\")\n",
    "    \n",
    "\n",
    "widget = Button(None, text='Mouse Clicks')\n",
    "widget.pack()\n",
    "\n",
    "widget.bind('<Double-1>', quit)\n",
    "widget.bind('<Button-1>', hello)\n",
    "\n",
    "mainloop()"
   ]
  },
  {
   "cell_type": "code",
   "execution_count": null,
   "metadata": {},
   "outputs": [],
   "source": []
  }
 ],
 "metadata": {
  "kernelspec": {
   "display_name": "Python 3",
   "language": "python",
   "name": "python3"
  },
  "language_info": {
   "codemirror_mode": {
    "name": "ipython",
    "version": 3
   },
   "file_extension": ".py",
   "mimetype": "text/x-python",
   "name": "python",
   "nbconvert_exporter": "python",
   "pygments_lexer": "ipython3",
   "version": "3.6.5"
  }
 },
 "nbformat": 4,
 "nbformat_minor": 2
}
