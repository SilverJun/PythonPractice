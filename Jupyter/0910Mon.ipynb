{
 "cells": [
  {
   "cell_type": "markdown",
   "metadata": {},
   "source": [
    "## 9/10 Mon\n",
    "-------"
   ]
  },
  {
   "cell_type": "code",
   "execution_count": null,
   "metadata": {},
   "outputs": [],
   "source": [
    "temperature = int(input(\"현재 기온은 몇 도 입니까? \"))\n",
    "\n",
    "if temperature > 35:\n",
    "    print(\"매우 덥다\")\n",
    "elif temperature > 30:\n",
    "    print(\"덥다\")\n",
    "elif temperature > 20:\n",
    "    print(\"쾌적\")\n",
    "elif temperature > 10:\n",
    "    print(\"서늘\")\n",
    "elif temperature > -10:\n",
    "    print(\"춥다\")\n",
    "else:\n",
    "    print(\"매우 춥다\")\n"
   ]
  },
  {
   "cell_type": "code",
   "execution_count": 8,
   "metadata": {},
   "outputs": [
    {
     "name": "stdout",
     "output_type": "stream",
     "text": [
      "수수료는 1400000\n"
     ]
    }
   ],
   "source": [
    "trade = int(input(\"매매(1) or 전세(2) : \"))\n",
    "money = int(input(\"거래금액 : \"))\n",
    "comm = 0\n",
    "\n",
    "if trade == 1:\n",
    "    if money > 1000000000:\n",
    "        comm = int(money*0.002)\n",
    "    elif money > 500000000:\n",
    "        comm = int(money*0.005)\n",
    "    elif money > 100000000:\n",
    "        comm = int(money*0.007)\n",
    "    else:\n",
    "        comm = int(money*0.01)\n",
    "        \n",
    "elif trade == 2:\n",
    "    if money > 1000000000:\n",
    "        comm = int(money*0.001)\n",
    "    elif money > 500000000:\n",
    "        comm = int(money*0.003)\n",
    "    elif money > 100000000:\n",
    "        comm = int(money*0.004)\n",
    "    else:\n",
    "        comm = int(money*0.005)\n",
    "    \n",
    "else:\n",
    "    print(\"처리할 수 없습니다.\")\n",
    "    \n",
    "print(\"수수료는\", comm, \"입니다.\")"
   ]
  },
  {
   "cell_type": "code",
   "execution_count": 9,
   "metadata": {},
   "outputs": [
    {
     "name": "stdout",
     "output_type": "stream",
     "text": [
      "\n",
      "^\n",
      "@@\n",
      "^^^\n",
      "@@@@\n",
      "^^^^^\n",
      "@@@@@@\n",
      "^^^^^^^\n",
      "@@@@@@@@\n",
      "^^^^^^^^^\n",
      "Final number = 9\n"
     ]
    }
   ],
   "source": [
    "for i in range(10):\n",
    "    if i%2 == 0:\n",
    "        print(\"@\"*i)\n",
    "    else:\n",
    "        print(\"^\"*i)\n",
    "        \n",
    "print(\"Final number =\", i)"
   ]
  },
  {
   "cell_type": "code",
   "execution_count": 13,
   "metadata": {},
   "outputs": [
    {
     "name": "stdout",
     "output_type": "stream",
     "text": [
      "\n",
      "*\n",
      "***\n",
      "*****\n",
      "*******\n",
      "*********\n"
     ]
    }
   ],
   "source": [
    "for i in range(6):\n",
    "    print(\"*\"*(i*2-1))"
   ]
  },
  {
   "cell_type": "code",
   "execution_count": 23,
   "metadata": {},
   "outputs": [],
   "source": [
    "while i < 5:\n",
    "    print(\"*\"*(i*2-1))\n",
    "    i= i+1"
   ]
  },
  {
   "cell_type": "code",
   "execution_count": null,
   "metadata": {},
   "outputs": [],
   "source": []
  }
 ],
 "metadata": {
  "kernelspec": {
   "display_name": "Python 3",
   "language": "python",
   "name": "python3"
  },
  "language_info": {
   "codemirror_mode": {
    "name": "ipython",
    "version": 3
   },
   "file_extension": ".py",
   "mimetype": "text/x-python",
   "name": "python",
   "nbconvert_exporter": "python",
   "pygments_lexer": "ipython3",
   "version": "3.6.5"
  }
 },
 "nbformat": 4,
 "nbformat_minor": 2
}
