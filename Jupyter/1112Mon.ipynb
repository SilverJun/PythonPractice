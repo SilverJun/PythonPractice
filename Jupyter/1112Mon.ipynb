{
 "cells": [
  {
   "cell_type": "markdown",
   "metadata": {},
   "source": [
    "## 11/12 Mon\n",
    "----"
   ]
  },
  {
   "cell_type": "code",
   "execution_count": 1,
   "metadata": {},
   "outputs": [
    {
     "name": "stdout",
     "output_type": "stream",
     "text": [
      "{'장은준': 1031, '김한동': 515, '장재민': 1104, '아무개': 212, '누구야': 919}\n",
      "False\n",
      "{'김한동': 515, '장재민': 1104, '아무개': 212, '누구야': 919}\n"
     ]
    }
   ],
   "source": [
    "birthdate = {}\n",
    "\n",
    "def add_birth(num):\n",
    "    for i in range(num):\n",
    "        input_name = input(\"이름: \")\n",
    "        input_birth = int(input(\"생일: \"))\n",
    "        birthdate[input_name] = input_birth\n",
    "        \n",
    "add_birth(5)\n",
    "print(birthdate)\n",
    "\n",
    "name = input(\"생일을 삭제하고 싶은 사람의 이름을 입력하세요: \")\n",
    "birthdate.pop(name)\n",
    "print(name in birthdate)\n",
    "print(birthdate)"
   ]
  },
  {
   "cell_type": "code",
   "execution_count": 2,
   "metadata": {},
   "outputs": [
    {
     "name": "stdout",
     "output_type": "stream",
     "text": [
      "[('a', 0), ('b', 1), ('c', 2), ('d', 3)]\n",
      "{'a': 0, 'b': 1, 'c': 2, 'd': 3}\n"
     ]
    }
   ],
   "source": [
    "test = list(zip('abcd', range(4)))\n",
    "print(test)\n",
    "print(dict(test))\n"
   ]
  },
  {
   "cell_type": "code",
   "execution_count": 7,
   "metadata": {},
   "outputs": [
    {
     "name": "stdout",
     "output_type": "stream",
     "text": [
      "['김경미', '최영희', '이승철']\n"
     ]
    }
   ],
   "source": [
    "def find_teacher(sub):\n",
    "    Subjects = {'김경미':['수학','과학'],'최영희':['영어', '수학'], '강동원':['영어수학'], '정필수':['사회', '역사'], '박희수':'국어', '이승철':['수학', '과학']}\n",
    "\n",
    "    teacher = []\n",
    "    for key in Subjects.keys():\n",
    "        if sub in Subjects[key]:\n",
    "            teacher.append(key)\n",
    "\n",
    "    return teacher\n",
    "\n",
    "\n",
    "sub = input('과목을 입력하시오: ')\n",
    "print(find_teacher(sub))\n"
   ]
  },
  {
   "cell_type": "code",
   "execution_count": 1,
   "metadata": {},
   "outputs": [
    {
     "name": "stdout",
     "output_type": "stream",
     "text": [
      "Number list =  ['1\\n', '2\\n', '3\\n', '4\\n', '5\\n', '6\\n', '7\\n', '8\\n', '9\\n', '10'] \n",
      "Total =  55 \n",
      "Mean =  5.5\n"
     ]
    }
   ],
   "source": [
    "inf = open('/Users/silverjun/Desktop/number.txt')\n",
    "s = inf.readlines()\n",
    "total = 0\n",
    "mean = 0\n",
    "\n",
    "for i in range(len(s)):\n",
    "    total = total + int(s[i])\n",
    "\n",
    "mean = total / len(s)\n",
    "print('Number list = ', s, '\\nTotal = ', total, '\\nMean = ', round(mean,2))\n"
   ]
  },
  {
   "cell_type": "code",
   "execution_count": null,
   "metadata": {},
   "outputs": [],
   "source": []
  }
 ],
 "metadata": {
  "kernelspec": {
   "display_name": "Python 3",
   "language": "python",
   "name": "python3"
  },
  "language_info": {
   "codemirror_mode": {
    "name": "ipython",
    "version": 3
   },
   "file_extension": ".py",
   "mimetype": "text/x-python",
   "name": "python",
   "nbconvert_exporter": "python",
   "pygments_lexer": "ipython3",
   "version": "3.6.5"
  }
 },
 "nbformat": 4,
 "nbformat_minor": 2
}
