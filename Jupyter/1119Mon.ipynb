{
 "cells": [
  {
   "cell_type": "markdown",
   "metadata": {},
   "source": [
    "## 11/19 Mon\n",
    "-----\n"
   ]
  },
  {
   "cell_type": "code",
   "execution_count": 5,
   "metadata": {},
   "outputs": [
    {
     "name": "stdout",
     "output_type": "stream",
     "text": [
      "['2056', ' 24', ' 5', ' 123', ' 51\\n']\n",
      "평균 = 451.8\n",
      "['123', '67', '24', '1024', '31\\n']\n",
      "평균 = 253.8\n",
      "['67', '2056', ' 24', ' 5', ' 123 \\n']\n",
      "평균 = 455.0\n",
      "['31', '24', ' 1024', ' 31', '1\\n']\n",
      "평균 = 222.2\n",
      "['999', '67', '2056', ' 24', ' 5 \\n']\n",
      "평균 = 630.2\n",
      "['1024', '67', ' 24', ' 1024', ' 31\\n']\n",
      "평균 = 434.0\n",
      "['5', '99', '67', '2056', ' 21\\n']\n",
      "평균 = 449.6\n",
      "['255', '256', ' 24', ' 5', ' 123\\n']\n",
      "평균 = 132.6\n",
      "['446', '31', '24', ' 1024', ' 31 \\n']\n",
      "평균 = 311.2\n"
     ]
    }
   ],
   "source": [
    "fp = open(\"/Users/silverjun/Desktop/numbers.txt\", \"r\")\n",
    "\n",
    "strs = fp.readlines()\n",
    "\n",
    "for i in range(len(strs)):\n",
    "    strs[i].strip()\n",
    "    lineStr = strs[i].split(\", \")\n",
    "    print(lineStr)\n",
    "    \n",
    "    sum = 0\n",
    "    for j in range(len(lineStr)):\n",
    "        sum += int(lineStr[j])\n",
    "    print(\"평균 =\", sum/len(lineStr))\n",
    "\n",
    "fp.close()\n"
   ]
  },
  {
   "cell_type": "code",
   "execution_count": 6,
   "metadata": {},
   "outputs": [],
   "source": [
    "inf = open(\"/Users/silverjun/Desktop/poem.txt\", \"r\")\n",
    "outf = open('/Users/silverjun/Desktop/poemDouble.txt', \"w\")\n",
    "\n",
    "slist = inf.readlines()\n",
    "\n",
    "for i in range(len(slist)):\n",
    "    tmpstr = slist[i]\n",
    "    tmpstr += \"\\n\"\n",
    "    \n",
    "    outf.write(tmpstr)\n",
    "    \n",
    "outf.close()\n",
    "inf.close()\n"
   ]
  },
  {
   "cell_type": "code",
   "execution_count": 2,
   "metadata": {},
   "outputs": [
    {
     "name": "stdout",
     "output_type": "stream",
     "text": [
      "tsetesrever\n"
     ]
    }
   ],
   "source": [
    "print(\"reversetest\"[::-1])"
   ]
  },
  {
   "cell_type": "code",
   "execution_count": null,
   "metadata": {},
   "outputs": [],
   "source": []
  }
 ],
 "metadata": {
  "kernelspec": {
   "display_name": "Python 3",
   "language": "python",
   "name": "python3"
  },
  "language_info": {
   "codemirror_mode": {
    "name": "ipython",
    "version": 3
   },
   "file_extension": ".py",
   "mimetype": "text/x-python",
   "name": "python",
   "nbconvert_exporter": "python",
   "pygments_lexer": "ipython3",
   "version": "3.6.5"
  }
 },
 "nbformat": 4,
 "nbformat_minor": 2
}
