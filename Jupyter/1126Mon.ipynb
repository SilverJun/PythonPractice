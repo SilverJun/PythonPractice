{
 "cells": [
  {
   "cell_type": "markdown",
   "metadata": {},
   "source": [
    "## 11/26 Mon\n",
    "----\n",
    "\n"
   ]
  },
  {
   "cell_type": "code",
   "execution_count": 1,
   "metadata": {},
   "outputs": [
    {
     "name": "stdout",
     "output_type": "stream",
     "text": [
      "처리할 수 없는 문자!\n"
     ]
    }
   ],
   "source": [
    "import sys\n",
    "\n",
    "while True:\n",
    "    try:\n",
    "        age = int(input('enter your age: '))\n",
    "        break\n",
    "    except ValueError:\n",
    "        print('처리할 수 없는 문자!')"
   ]
  },
  {
   "cell_type": "code",
   "execution_count": 3,
   "metadata": {},
   "outputs": [],
   "source": [
    "from tkinter import *\n",
    "master = Tk()\n",
    "\n",
    "b = Button(master, text = 'Button', height = 3, width = 10, anchor = CENTER, foreground = 'Blue', activebackground = 'Red')\n",
    "b.pack()\n",
    "\n",
    "l = Label(master, text='Label', fg = 'green', font=('Helvetica', 15))\n",
    "l.pack()\n",
    "\n",
    "mainloop()"
   ]
  },
  {
   "cell_type": "code",
   "execution_count": 4,
   "metadata": {},
   "outputs": [
    {
     "name": "stdout",
     "output_type": "stream",
     "text": [
      "Day: 26 Nov 2018 \n",
      "Time: 12 : 34 : 23 PM\n",
      "\n",
      "Day: 26 Nov 2018 \n",
      "Time: 12 : 34 : 24 PM\n",
      "\n",
      "Day: 26 Nov 2018 \n",
      "Time: 12 : 34 : 25 PM\n",
      "\n",
      "Day: 26 Nov 2018 \n",
      "Time: 12 : 34 : 32 PM\n",
      "\n",
      "Day: 26 Nov 2018 \n",
      "Time: 12 : 34 : 33 PM\n",
      "\n",
      "Day: 26 Nov 2018 \n",
      "Time: 12 : 34 : 34 PM\n",
      "\n",
      "Day: 26 Nov 2018 \n",
      "Time: 12 : 34 : 34 PM\n",
      "\n",
      "Day: 26 Nov 2018 \n",
      "Time: 12 : 34 : 36 PM\n",
      "\n"
     ]
    }
   ],
   "source": [
    "from tkinter import Tk, Button\n",
    "from time import strftime, localtime\n",
    "\n",
    "def clicked():\n",
    "    time = strftime('Day: %d %b %Y \\nTime: %H : %M : %S %p\\n', localtime())\n",
    "    print(time)\n",
    "\n",
    "root = Tk()\n",
    "\n",
    "but = Button(root, text = 'click it', command = clicked)\n",
    "but.pack()\n",
    "\n",
    "root.mainloop()"
   ]
  },
  {
   "cell_type": "code",
   "execution_count": null,
   "metadata": {},
   "outputs": [],
   "source": []
  }
 ],
 "metadata": {
  "kernelspec": {
   "display_name": "Python 3",
   "language": "python",
   "name": "python3"
  },
  "language_info": {
   "codemirror_mode": {
    "name": "ipython",
    "version": 3
   },
   "file_extension": ".py",
   "mimetype": "text/x-python",
   "name": "python",
   "nbconvert_exporter": "python",
   "pygments_lexer": "ipython3",
   "version": "3.6.5"
  }
 },
 "nbformat": 4,
 "nbformat_minor": 2
}
