{
 "cells": [
  {
   "cell_type": "markdown",
   "metadata": {},
   "source": [
    "## TEST PY\n",
    "----"
   ]
  },
  {
   "cell_type": "code",
   "execution_count": 6,
   "metadata": {},
   "outputs": [
    {
     "name": "stdout",
     "output_type": "stream",
     "text": [
      "a0\n",
      "a1\n",
      "a2\n",
      "a3\n",
      "a4\n",
      "a5\n",
      "a6\n",
      "a7\n",
      "a8\n",
      "a9\n",
      "9\n"
     ]
    }
   ],
   "source": [
    "for i in range(10):\n",
    "    print(\"a\"+str(i))\n",
    "    \n",
    "print(i)"
   ]
  },
  {
   "cell_type": "markdown",
   "metadata": {},
   "source": [
    "> 반복문 끝나고 i는 n-1로 된다."
   ]
  },
  {
   "cell_type": "code",
   "execution_count": 7,
   "metadata": {},
   "outputs": [
    {
     "name": "stdout",
     "output_type": "stream",
     "text": [
      "Brave\n"
     ]
    }
   ],
   "source": [
    "s = 'The Brave gets The Beauty'\n",
    "print(s[4:9])"
   ]
  },
  {
   "cell_type": "markdown",
   "metadata": {},
   "source": [
    "> s[a:b]  \n",
    "> 문자열의 a번째 부터 b-1번째까지 반환"
   ]
  },
  {
   "cell_type": "code",
   "execution_count": 8,
   "metadata": {},
   "outputs": [
    {
     "name": "stdout",
     "output_type": "stream",
     "text": [
      "4.666666666666667\n",
      "4\n",
      "2\n",
      "32\n"
     ]
    }
   ],
   "source": [
    "print(14/3)\n",
    "print(14//3)\n",
    "print(14%3)\n",
    "print(2**5)"
   ]
  },
  {
   "cell_type": "markdown",
   "metadata": {},
   "source": [
    "> 파이썬에서는 나누기가 자동으로 실수로 계산  \n",
    "> int몫은 ```//``` 연산자 사용  "
   ]
  },
  {
   "cell_type": "code",
   "execution_count": 11,
   "metadata": {},
   "outputs": [
    {
     "name": "stdout",
     "output_type": "stream",
     "text": [
      "division by zero!\n",
      "executing finally clause\n",
      "result is 2.0\n",
      "executing finally clause\n"
     ]
    }
   ],
   "source": [
    "# check zero division\n",
    "\n",
    "import sys\n",
    "\n",
    "def divide(x, y):\n",
    "    try:\n",
    "        result = x / y\n",
    "\n",
    "    except ZeroDivisionError:\n",
    "       print(\"division by zero!\")\n",
    "\n",
    "    else:\n",
    "        print(\"result is\", result)\n",
    "\n",
    "    finally:\n",
    "        print(\"executing finally clause\")\n",
    "\n",
    "divide(4, 0)\n",
    "divide(4, 2)"
   ]
  },
  {
   "cell_type": "markdown",
   "metadata": {},
   "source": [
    "> 파이썬의 예외처리 루틴   \n",
    "> try:   \n",
    "> error가 생기면 except:  \n",
    "> error가 없으면 else:   \n",
    "> finally:  -> 얘는 except와 else 상관없이 무조건 실행됨.   "
   ]
  },
  {
   "cell_type": "markdown",
   "metadata": {},
   "source": [
    "> 파이썬 에러 종류  \n",
    "> IOError  \n",
    "> OverFlowError, ZeroDivisionError  \n",
    "> IndexError, KeyError  \n",
    "> ValueError  \n",
    "등등...  "
   ]
  },
  {
   "cell_type": "markdown",
   "metadata": {},
   "source": [
    "> ```assert (참이어야 하는 조건식), print(\"Error message\")```  \n",
    "> assert는 조건이 참이 아닐경우 실행되고 에러가 발생하는 것."
   ]
  },
  {
   "cell_type": "code",
   "execution_count": 17,
   "metadata": {},
   "outputs": [
    {
     "name": "stdout",
     "output_type": "stream",
     "text": [
      "catdog\n",
      "catcatcat\n",
      "False\n",
      "True\n",
      "tac\n",
      "catcatcat\n",
      "True\n"
     ]
    }
   ],
   "source": [
    "s1 = 'cat'\n",
    "print(s1 + 'dog')\n",
    "print(s1 * 3)\n",
    "print(s1 > 'dog')\n",
    "print(s1 == 'cat')\n",
    "print(s1[::-1])\n",
    "s1 *= 3\n",
    "print(s1)\n",
    "print('c' in s1)"
   ]
  },
  {
   "cell_type": "markdown",
   "metadata": {},
   "source": [
    "> 파이썬 문자열은 짱짱 좋다  \n",
    "> +=, \\*=도 지원  \n",
    "> 메소드도 많다.  \n",
    "> == 이 strcmp와 동일.  \n",
    "> in - 문자열에 특정 문자열이 있으면 반환하는 오퍼레이터"
   ]
  },
  {
   "cell_type": "markdown",
   "metadata": {},
   "source": [
    "| 메소드 | 설명\n",
    "|---------------------|------------------------------------------------------------------|\n",
    "|    .capitalize()    |    첫 글자만 대문자로 바꾼다                                     |\n",
    "|    .count()         |    지정 구간에서 글자수를 센다                                   |\n",
    "|    .find()          |    찾는 문자 또는 문자열이 시작하는 첨자를 찾아준다              |\n",
    "|    .isalpha()       |    모든 요소가 알파벳이면 참, 아니면 거짓                        |\n",
    "|    .isdigit()       |    모든 요소가 숫자이면 참, 아니면 거짓                          |\n",
    "|    .islower()       |    모든 요소가 소문자이면 참, 아니면 거짓                        |\n",
    "|    .isspace()       |    모든 요소가 공백이면 참, 아니면 거짓                          |\n",
    "|    .isupper()       |    모든 요소가 대문자이면 참,   아니면   거짓                    |\n",
    "|    .join()          |    문자열을 합쳐준다                                             |\n",
    "|    .lower()         |    소문자로 바꾼다                                               |\n",
    "|    .replace()       |    .replace(old,   new [,count])     다른   문자열로 바꿔준다    |\n",
    "|    .split()         |    문자열을 space단위로 잘라서 list로 반환하는 함수             |\n",
    "|    .swapcase()      |    대문자는 소문자로, 소문자는   대문자로 바꾼다                 |\n",
    "|    .upper()         |    대문자로 바꾼다                                               |"
   ]
  },
  {
   "cell_type": "code",
   "execution_count": 1,
   "metadata": {},
   "outputs": [
    {
     "name": "stdout",
     "output_type": "stream",
     "text": [
      "[1, 2, 3, 1, 2, 3, 1, 2, 3]\n",
      "[3, 4, 5]\n",
      "[6, 5, 4, 3, 2, 1]\n",
      "[0, 1, 2, 3, 4, 5, 6, 7, 8, 9]\n",
      "[[0, 0, 0], [0, 0, 0], [0, 0, 0], [0, 0, 0], [0, 0, 0]]\n"
     ]
    }
   ],
   "source": [
    "l1 = [1, 2, 3]\n",
    "print(l1 * 3)\n",
    "l1 += [4, 5, 6]\n",
    "print(l1[2:5])\n",
    "l1.reverse()\n",
    "print(l1)\n",
    "l2 = [i for i in range(10)]\n",
    "print(l2)\n",
    "l3 = [[0 for i in range(3)] for j in range(5)]\n",
    "print(l3)"
   ]
  },
  {
   "cell_type": "code",
   "execution_count": 39,
   "metadata": {},
   "outputs": [
    {
     "name": "stdout",
     "output_type": "stream",
     "text": [
      "['a', 'p', 'p', 'l', 'e']\n",
      "apple\n",
      "a p p l e\n",
      "a-p-p-l-e\n"
     ]
    }
   ],
   "source": [
    "s = 'apple'\n",
    "l = list(s)\n",
    "print(l)\n",
    "print(\"\".join(l))\n",
    "print(\" \".join(l))\n",
    "print(\"-\".join(l))"
   ]
  },
  {
   "cell_type": "markdown",
   "metadata": {},
   "source": [
    "> shallow copy -> 참조복사  \n",
    "> deep copy -> 값복사  "
   ]
  },
  {
   "cell_type": "code",
   "execution_count": 5,
   "metadata": {},
   "outputs": [
    {
     "name": "stdout",
     "output_type": "stream",
     "text": [
      "[(1, 'a'), (34, 'b'), (4, 'c'), (12, 'd')]\n"
     ]
    }
   ],
   "source": [
    "from operator import *\n",
    "data = [(12, 'd'), (4, 'c'), (1, 'a'), (34, 'b')]\n",
    "data = sorted(data, key=itemgetter(1))\n",
    "print(data)"
   ]
  },
  {
   "cell_type": "markdown",
   "metadata": {},
   "source": [
    "> operator 라이브러리에서 itemgetter을 통해 sorted함수로 원하는 멤버 순으로 정렬가능."
   ]
  },
  {
   "cell_type": "code",
   "execution_count": null,
   "metadata": {},
   "outputs": [],
   "source": []
  }
 ],
 "metadata": {
  "kernelspec": {
   "display_name": "Python 3",
   "language": "python",
   "name": "python3"
  },
  "language_info": {
   "codemirror_mode": {
    "name": "ipython",
    "version": 3
   },
   "file_extension": ".py",
   "mimetype": "text/x-python",
   "name": "python",
   "nbconvert_exporter": "python",
   "pygments_lexer": "ipython3",
   "version": "3.7.1"
  }
 },
 "nbformat": 4,
 "nbformat_minor": 2
}
